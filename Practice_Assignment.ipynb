{
  "nbformat": 4,
  "nbformat_minor": 0,
  "metadata": {
    "colab": {
      "provenance": [],
      "authorship_tag": "ABX9TyMM0xi8L6NMHkO/JyUNeJX3",
      "include_colab_link": true
    },
    "kernelspec": {
      "name": "python3",
      "display_name": "Python 3"
    },
    "language_info": {
      "name": "python"
    }
  },
  "cells": [
    {
      "cell_type": "markdown",
      "metadata": {
        "id": "view-in-github",
        "colab_type": "text"
      },
      "source": [
        "<a href=\"https://colab.research.google.com/github/Nazmul0173/antu2/blob/main/Practice_Assignment.ipynb\" target=\"_parent\"><img src=\"https://colab.research.google.com/assets/colab-badge.svg\" alt=\"Open In Colab\"/></a>"
      ]
    },
    {
      "cell_type": "code",
      "execution_count": 1,
      "metadata": {
        "id": "dskaUcITjfkp",
        "colab": {
          "base_uri": "https://localhost:8080/"
        },
        "outputId": "f0920fcd-6700-469d-d848-b83530dbe69d"
      },
      "outputs": [
        {
          "output_type": "stream",
          "name": "stdout",
          "text": [
            "Enter month (e.g., January, February, March, April, May, June): January\n",
            "Enter month electricity usage (in kwh): 225\n",
            "Enter gas usage (in cubic meters): 240\n",
            "Enter month water usage (in cubic meters): 200\n",
            "Enter month (e.g., January, February, March, April, May, June): Febuary\n",
            "Invalid month. please enter a valid month name.\n",
            "Enter month (e.g., January, February, March, April, May, June): February\n",
            "Enter month electricity usage (in kwh): 280\n",
            "Enter gas usage (in cubic meters): 300\n",
            "Enter month water usage (in cubic meters): 310\n",
            "Enter month (e.g., January, February, March, April, May, June): March\n",
            "Enter month electricity usage (in kwh): 405\n",
            "Enter gas usage (in cubic meters): 380\n",
            "Enter month water usage (in cubic meters): 355\n",
            "Enter month (e.g., January, February, March, April, May, June): April\n",
            "Enter month electricity usage (in kwh): 395\n",
            "Enter gas usage (in cubic meters): 375\n",
            "Enter month water usage (in cubic meters): 330\n",
            "Enter month (e.g., January, February, March, April, May, June): May \n",
            "Enter month electricity usage (in kwh): 375\n",
            "Enter gas usage (in cubic meters): 390\n",
            "Enter month water usage (in cubic meters): 400\n",
            "Enter month (e.g., January, February, March, April, May, June): June\n",
            "Enter month electricity usage (in kwh): 350\n",
            "Enter gas usage (in cubic meters): 410\n",
            "Enter month water usage (in cubic meters): 425\n",
            "Data collection completed successfully.\n"
          ]
        }
      ],
      "source": [
        "import csv\n",
        "\n",
        "with open(\"monthly_energy_consumption.csv\", \"a\", newline='') as monthly_energy:\n",
        "    writer = csv.writer(monthly_energy)\n",
        "\n",
        "    for i in range(6):\n",
        "        try:\n",
        "            valid_months = [\"January\", \"February\", \"March\", \"April\", \"May\", \"June\"]\n",
        "\n",
        "\n",
        "\n",
        "            while True:\n",
        "                month = input(\"Enter month (e.g., January, February, March, April, May, June): \").strip().title()\n",
        "                if month in valid_months:\n",
        "                    break\n",
        "                else:\n",
        "                    print(\"Invalid month. please enter a valid month name.\")\n",
        "\n",
        "\n",
        "            while True:\n",
        "                electricity_str = input(\"Enter month electricity usage (in kwh): \")\n",
        "                try:\n",
        "                    electricity = float(electricity_str)\n",
        "                    break\n",
        "                except ValueError:\n",
        "                  print(\"Invalid input for electricity usage. please enter a valid number.\")\n",
        "\n",
        "\n",
        "            while True:\n",
        "                gas_str = input(\"Enter gas usage (in cubic meters): \")\n",
        "                try:\n",
        "                   gas = float(gas_str)\n",
        "                   break\n",
        "                except ValueError:\n",
        "                  print(\"Invalid input for gas usage. please enter a valid number.\")\n",
        "\n",
        "\n",
        "            while True:\n",
        "                water_str = input(\"Enter month water usage (in cubic meters): \")\n",
        "                try:\n",
        "                   water = float(water_str)\n",
        "                   break\n",
        "                except ValueError:\n",
        "                  print(\"Invalid input for water usage. please enter a valid number.\")\n",
        "\n",
        "\n",
        "            writer.writerow([month, electricity, gas, water])\n",
        "\n",
        "        except ValueError:\n",
        "\n",
        "            print(\"Sorry, that was an invalid input\\nPlease enter a valid input.\")\n",
        "\n",
        "print(\"Data collection completed successfully.\")"
      ]
    },
    {
      "cell_type": "code",
      "source": [
        "import csv\n",
        "\n",
        "file_path = 'monthly_energy_consumption.csv'\n",
        "\n",
        "with open(file_path, 'r') as monthly_energy:\n",
        "    csvreader = csv.reader(monthly_energy)\n",
        "    for row in csvreader:\n",
        "        print(row)"
      ],
      "metadata": {
        "id": "PEeKRdkW0CQI",
        "colab": {
          "base_uri": "https://localhost:8080/"
        },
        "outputId": "91cdbea9-2c24-475b-ca78-e08b6e35f0e2"
      },
      "execution_count": 2,
      "outputs": [
        {
          "output_type": "stream",
          "name": "stdout",
          "text": [
            "['January', '225.0', '240.0', '200.0']\n",
            "['February', '280.0', '300.0', '310.0']\n",
            "['March', '405.0', '380.0', '355.0']\n",
            "['April', '395.0', '375.0', '330.0']\n",
            "['May', '375.0', '390.0', '400.0']\n",
            "['June', '350.0', '410.0', '425.0']\n"
          ]
        }
      ]
    },
    {
      "cell_type": "code",
      "source": [
        "import csv\n",
        "\n",
        "month = []\n",
        "electricity_usage = []\n",
        "gas_usage = []\n",
        "water_usage = []\n",
        "with open('monthly_energy_consumption.csv', 'r') as csvfile:\n",
        "    csvreader = csv.reader(csvfile)\n",
        "    next(csvreader)\n",
        "    for row in csvreader:\n",
        "        month.append(row[0])\n",
        "        electricity_usage.append(float(row[1]))\n",
        "        gas_usage.append(float(row[2]))\n",
        "        water_usage.append(float(row[3]))\n",
        "print(\"month:\", month)\n",
        "print(\"electricity_usage:\", electricity_usage)\n",
        "print(\"gas_usage:\", gas_usage)\n",
        "print(\"water_usage:\", water_usage)\n"
      ],
      "metadata": {
        "id": "kA8xcgMI58B_",
        "colab": {
          "base_uri": "https://localhost:8080/"
        },
        "outputId": "eb341da5-df5a-45cc-a88d-381969d9487d"
      },
      "execution_count": 3,
      "outputs": [
        {
          "output_type": "stream",
          "name": "stdout",
          "text": [
            "month: ['February', 'March', 'April', 'May', 'June']\n",
            "electricity_usage: [280.0, 405.0, 395.0, 375.0, 350.0]\n",
            "gas_usage: [300.0, 380.0, 375.0, 390.0, 410.0]\n",
            "water_usage: [310.0, 355.0, 330.0, 400.0, 425.0]\n"
          ]
        }
      ]
    },
    {
      "cell_type": "code",
      "source": [
        "import csv\n",
        "import matplotlib.pyplot as plt\n",
        "def load_data(file_name):\n",
        "    \"\"\"Load monthly energy consumtion data from a CSV file\"\"\"\n",
        "    months, electricity_usage, gas_usage, water_usage = [], [], [], []\n",
        "\n",
        "\n",
        "    with open(file_name, 'r') as csvfile:\n",
        "        csvreader = csv.reader(csvfile)\n",
        "        next(csvreader)\n",
        "        for row in csvreader:\n",
        "            months.append(row)\n",
        "            electricity_usage.append(float(row[1]))\n",
        "            gas_usage.append(float(row[2]))\n",
        "            water_usage.append(float(row[3]))\n",
        "    return months, electricity_usage, gas_usage, water_usage\n",
        "\n",
        "def monthly_consumtion_trends(months, electricity_usage, gas_usage, water_usage):\n",
        "    \"\"\"Plot monthly energy consumtion trends\"\"\"\n",
        "    plt.figure(figsize=(10, 6))\n",
        "    plt.plot(months, electricity_usage, marker='o', label='Electricity Usage (kwh)')\n",
        "    plt.plot(months, gas_usage, marker='o', label='Gas Usage (cubic meters)')\n",
        "    plt.plot(months, water_usage, marker='o', label='Water Usage (cubic meters)')\n",
        "    plt.xlabel('Month')\n",
        "    plt.ylabel('Consumption')\n",
        "    plt.xticks(rotation=45)\n",
        "    plt.legend()\n",
        "    plt.grid(True)\n",
        "    plt.tight_layout()\n",
        "    plt.show()\n",
        "\n",
        "def comparison_energy_types(electricity_usage, gas_usage, water_usage):\n",
        "    \"\"\"plot consumption of energy types by consumption\"\"\"\n",
        "    plt.figure(figsize=(10, 6))\n",
        "    plt.bar(['Electricity', 'Gas', 'Water'], [sum(electricity_usage), sum(gas_usage), sum(water_usage)])\n",
        "    plt.title('consumtion of energy types by consumtion' )\n",
        "    plt.xlabel('Energy Type')\n",
        "    plt.ylabel('Consumption')\n",
        "    plt.grid(axis='y')\n",
        "    plt.show()\n",
        "\n",
        "def annual_energy_consumption(electricity_usage, gas_usage, water_usage):\n",
        "    \"\"\"plot annual total consumption breakdown by energy type.\"\"\"\n",
        "    level = ['electricity', 'gas', 'water']\n",
        "    size = [sum(electricity_usage), sum(gas_usage), sum(water_usage)]\n",
        "    plt.figure(figsize=(10, 6))\n",
        "    plt.pie(size, labels=level, autopct='%1.1f%%')\n",
        "    plt.title('Annual total Consumption breakdown by energy type')\n",
        "    plt.axis('equal')\n",
        "    plt.tight_layout()\n",
        "    plt.show()\n",
        "\n",
        "\n",
        "def main ():\n",
        "    file_name = 'monthly_energy_consumption.csv'\n",
        "    months, electricity_usage, gas_usage, water_usage = load_data(file_name)\n",
        "\n",
        "    while True:\n",
        "      print (\"\\nMenu Options:\")\n",
        "      print (\"1. Plot monthly energy consumtion trends\")\n",
        "      print (\"2. Plot consumption of energy types by consumption\")\n",
        "      print (\"3. Plot annual total consumption breakdown by energy type\")\n",
        "      print (\"4. Exit\")\n",
        "      choice = input(\"Enter your choice (1/2/3/4): \")\n",
        "      if choice == '1':\n",
        "        monthly_consumtion_trends(months, electricity_usage, gas_usage, water_usage)\n",
        "      elif choice == '2':\n",
        "          comparison_energy_types(electricity_usage, gas_usage, water_usage)\n",
        "      elif choice == '3':\n",
        "          annual_consumption_breakdown(electricity_usage, gas_usage, water_usage)\n",
        "      elif choice == '4':\n",
        "            print(\"Exiting the program.\")\n",
        "            break\n",
        "      else:\n",
        "          print(\"Invalid choice. Please enter a number from 1 to 4.\")\n",
        "\n",
        "if __name__ == \"__main__\":\n",
        "    main()\n",
        "\n",
        "\n",
        "\n"
      ],
      "metadata": {
        "id": "e7yuXp4C-q1n",
        "colab": {
          "base_uri": "https://localhost:8080/",
          "height": 829
        },
        "outputId": "46c2ec55-4d38-4980-a8eb-c8a022eae087"
      },
      "execution_count": null,
      "outputs": [
        {
          "name": "stdout",
          "output_type": "stream",
          "text": [
            "\n",
            "Menu Options:\n",
            "1. Plot monthly energy consumtion trends\n",
            "2. Plot consumption of energy types by consumption\n",
            "3. Plot annual total consumption breakdown by energy type\n",
            "4. Exit\n",
            "Enter your choice (1/2/3/4): 2\n"
          ]
        },
        {
          "output_type": "display_data",
          "data": {
            "text/plain": [
              "<Figure size 1000x600 with 1 Axes>"
            ],
            "image/png": "[encoded data removed]"
          },
          "metadata": {}
        },
        {
          "output_type": "stream",
          "name": "stdout",
          "text": [
            "\n",
            "Menu Options:\n",
            "1. Plot monthly energy consumtion trends\n",
            "2. Plot consumption of energy types by consumption\n",
            "3. Plot annual total consumption breakdown by energy type\n",
            "4. Exit\n"
          ]
        }
      ]
    }
  ]
}