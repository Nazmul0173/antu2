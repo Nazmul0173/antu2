{
  "nbformat": 4,
  "nbformat_minor": 0,
  "metadata": {
    "colab": {
      "provenance": [],
      "toc_visible": true,
      "authorship_tag": "ABX9TyP8LRBHrZ1FfvCK/5uzElBR",
      "include_colab_link": true
    },
    "kernelspec": {
      "name": "python3",
      "display_name": "Python 3"
    },
    "language_info": {
      "name": "python"
    }
  },
  "cells": [
    {
      "cell_type": "markdown",
      "metadata": {
        "id": "view-in-github",
        "colab_type": "text"
      },
      "source": [
        "<a href=\"https://colab.research.google.com/github/Nazmul0173/antu2/blob/main/Practice_Assignment.ipynb\" target=\"_parent\"><img src=\"https://colab.research.google.com/assets/colab-badge.svg\" alt=\"Open In Colab\"/></a>"
      ]
    },
    {
      "cell_type": "code",
      "execution_count": null,
      "metadata": {
        "id": "dskaUcITjfkp"
      },
      "outputs": [],
      "source": [
        "import csv\n",
        "\n",
        "with open(\"monthly_energy_consumption.csv\", \"a\", newline='') as monthly_energy:\n",
        "    writer = csv.writer(monthly_energy)\n",
        "\n",
        "    for i in range(6):\n",
        "        try:\n",
        "            valid_months = [\"January\", \"February\", \"March\", \"April\", \"May\", \"June\"]\n",
        "\n",
        "\n",
        "\n",
        "            while True:\n",
        "                month = input(\"Enter month (e.g., January, February, March, April, May, June): \").strip().title()\n",
        "                if month in valid_months:\n",
        "                    break\n",
        "                else:\n",
        "                    print(\"Invalid month. please enter a valid month name.\")\n",
        "\n",
        "\n",
        "            while True:\n",
        "                electricity_str = input(\"Enter month electricity usage (in kwh): \")\n",
        "                try:\n",
        "                    electricity = float(electricity_str)\n",
        "                    break\n",
        "                except ValueError:\n",
        "                  print(\"Invalid input for electricity usage. please enter a valid number.\")\n",
        "\n",
        "\n",
        "            while True:\n",
        "                gas_str = input(\"Enter gas usage (in cubic meters): \")\n",
        "                try:\n",
        "                   gas = float(gas_str)\n",
        "                   break\n",
        "                except ValueError:\n",
        "                  print(\"Invalid input for gas usage. please enter a valid number.\")\n",
        "\n",
        "\n",
        "            while True:\n",
        "                water_str = input(\"Enter month water usage (in cubic meters): \")\n",
        "                try:\n",
        "                   water = float(water_str)\n",
        "                   break\n",
        "                except ValueError:\n",
        "                  print(\"Invalid input for water usage. please enter a valid number.\")\n",
        "\n",
        "\n",
        "            writer.writerow([month, electricity, gas, water])\n",
        "\n",
        "        except ValueError:\n",
        "\n",
        "            print(\"Sorry, that was an invalid input\\nPlease enter a valid input.\")\n",
        "\n",
        "print(\"Data collection completed successfully.\")"
      ]
    },
    {
      "cell_type": "code",
      "source": [
        "import csv\n",
        "\n",
        "file_path = 'monthly_energy_consumption.csv'\n",
        "\n",
        "with open(file_path, 'r') as monthly_energy:\n",
        "    csvreader = csv.reader(monthly_energy)\n",
        "    for row in csvreader:\n",
        "        print(row)"
      ],
      "metadata": {
        "id": "PEeKRdkW0CQI"
      },
      "execution_count": null,
      "outputs": []
    },
    {
      "cell_type": "code",
      "source": [
        "import csv\n",
        "\n",
        "month = []\n",
        "electricity_usage = []\n",
        "gas_usage = []\n",
        "water_usage = []\n",
        "with open('monthly_energy_consumption.csv', 'r') as csvfile:\n",
        "    csvreader = csv.reader(csvfile)\n",
        "    next(csvreader)\n",
        "    for row in csvreader:\n",
        "        month.append(row[0])\n",
        "        electricity_usage.append(float(row[1]))\n",
        "        gas_usage.append(float(row[2]))\n",
        "        water_usage.append(float(row[3]))\n",
        "print(\"month:\", month)\n",
        "print(\"electricity_usage:\", electricity_usage)\n",
        "print(\"gas_usage:\", gas_usage)\n",
        "print(\"water_usage:\", water_usage)\n"
      ],
      "metadata": {
        "id": "kA8xcgMI58B_"
      },
      "execution_count": null,
      "outputs": []
    },
    {
      "cell_type": "code",
      "source": [
        "import csv\n",
        "import matplotlib.pyplot as plt\n",
        "def load_data(file_path):\n",
        "    \"\"\"Load monthly energy consumtion data from a CSV file\"\"\"\n",
        "    months, electricity_usage, gas_usage, water_usage = [], [], [], []\n",
        "\n",
        "\n",
        "    with open(file_name, 'r') as csvfile:\n",
        "        csvreader = csv.reader(csvfile)\n",
        "        next(csvreader)\n",
        "        for row in csvreader:\n",
        "            months.append(row)\n",
        "            electricity_usage.append(float(row[1]))\n",
        "            gas_usage.append(float(row[2]))\n",
        "            water_usage.append(float(row[3]))\n",
        "    return months, electricity_usage, gas_usage, water_usage\n",
        "\n",
        "def monthly_consumtion_trends(months, electricity_usage, gas_usage, water_usage):\n",
        "    \"\"\"Plot monthly energy consumtion trends\"\"\"\n",
        "    plt.figure(figsize=(10, 6))\n",
        "    plt.plot(months, electricity_usage, marker='o', label='Electricity Usage (kwh)')\n",
        "    plt.plot(months, gas_usage, marker='o', label='Gas Usage (cubic meters)')\n",
        "    plt.plot(months, water_usage, marker='o', label='Water Usage (cubic meters)')\n",
        "    plt.xlabel('Month')\n",
        "    plt.ylabel('Consumption')\n",
        "    plt.xticks(rotation=45)\n",
        "    plt.legend()\n",
        "    plt.grid(True)\n",
        "    plt.tight_layout()\n",
        "    plt.show()\n",
        "\n",
        "def comparison_energy_types(electricity_usage, gas_usage, water_usage):\n",
        "    \"\"\"plot consumption of energy types by consumption\"\"\"\n",
        "    plt.figure(figsize=(10, 6))\n",
        "    plt.bar(['Electricity', 'Gas', 'Water'], [sum(electricity_usage), sum(gas_usage), sum(water_usage)])\n",
        "    plt.title('consumtion of energy types by consumtion' )\n",
        "    plt.xlabel('Energy Type')\n",
        "    plt.ylabel('Consumption')\n",
        "    plt.grid(axis='y')\n",
        "    plt.show()\n",
        "\n",
        "def annual_energy_consumption(electricity_usage, gas_usage, water_usage):\n",
        "    \"\"\"plot annual total consumption breakdown by energy type.\"\"\"\n",
        "    level = ['electricity', 'gas', 'water']\n",
        "    size = [sum(electricity_usage), sum(gas_usage), sum(water_usage)]\n",
        "    plt.figure(figsize=(10, 6))\n",
        "    plt.pie(size, labels=level, autopct='%1.1f%%')\n",
        "    plt.title('Annual total Consumption breakdown by energy type')\n",
        "    plt.axis('equal')\n",
        "    plt.tight_layout()\n",
        "    plt.show()\n",
        "\n",
        "\n"
      ],
      "metadata": {
        "id": "e7yuXp4C-q1n"
      },
      "execution_count": null,
      "outputs": []
    }
  ]
}