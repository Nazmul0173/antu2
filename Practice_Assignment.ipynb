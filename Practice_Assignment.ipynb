{
  "nbformat": 4,
  "nbformat_minor": 0,
  "metadata": {
    "colab": {
      "provenance": [],
      "toc_visible": true,
      "authorship_tag": "ABX9TyMyEgkyGAxDGBzVIINjIWAu",
      "include_colab_link": true
    },
    "kernelspec": {
      "name": "python3",
      "display_name": "Python 3"
    },
    "language_info": {
      "name": "python"
    }
  },
  "cells": [
    {
      "cell_type": "markdown",
      "metadata": {
        "id": "view-in-github",
        "colab_type": "text"
      },
      "source": [
        "<a href=\"https://colab.research.google.com/github/Nazmul0173/antu2/blob/main/Practice_Assignment.ipynb\" target=\"_parent\"><img src=\"https://colab.research.google.com/assets/colab-badge.svg\" alt=\"Open In Colab\"/></a>"
      ]
    },
    {
      "cell_type": "code",
      "execution_count": 6,
      "metadata": {
        "colab": {
          "base_uri": "https://localhost:8080/"
        },
        "id": "dskaUcITjfkp",
        "outputId": "b6e6324b-00ae-40de-b6e1-199cddefa685"
      },
      "outputs": [
        {
          "output_type": "stream",
          "name": "stdout",
          "text": [
            "Enter month (e.g., January, February, March, April, May, June): January\n",
            "Enter month electricity usage (in kwh): 80\n",
            "Enter gas usage (in cubic meters): 100\n",
            "Enter month water usage (in cubic meters): 110\n",
            "Enter month (e.g., January, February, March, April, May, June): February\n",
            "Enter month electricity usage (in kwh): 98\n",
            "Enter gas usage (in cubic meters): 105\n",
            "Enter month water usage (in cubic meters): 100\n",
            "Enter month (e.g., January, February, March, April, May, June): March\n",
            "Enter month electricity usage (in kwh): 100\n",
            "Enter gas usage (in cubic meters): 108\n",
            "Enter month water usage (in cubic meters): 100\n",
            "Enter month (e.g., January, February, March, April, May, June): April\n",
            "Enter month electricity usage (in kwh): 95\n",
            "Enter gas usage (in cubic meters): 98\n",
            "Enter month water usage (in cubic meters): 115\n",
            "Enter month (e.g., January, February, March, April, May, June): May\n",
            "Enter month electricity usage (in kwh): 110\n",
            "Enter gas usage (in cubic meters): 120\n",
            "Enter month water usage (in cubic meters): 118\n",
            "Enter month (e.g., January, February, March, April, May, June): June\n",
            "Enter month electricity usage (in kwh): 125\n",
            "Enter gas usage (in cubic meters): 128\n",
            "Enter month water usage (in cubic meters): 130\n",
            "Data collection completed successfully.\n"
          ]
        }
      ],
      "source": [
        "import csv\n",
        "\n",
        "with open(\"monthly_energy_consumption.csv\", \"a\", newline='') as monthly_energy:\n",
        "    writer = csv.writer(monthly_energy)\n",
        "\n",
        "    for i in range(6):\n",
        "        try:\n",
        "            valid_months = [\"January\", \"February\", \"March\", \"April\", \"May\", \"June\"]\n",
        "\n",
        "\n",
        "\n",
        "            while True:\n",
        "                month = input(\"Enter month (e.g., January, February, March, April, May, June): \").strip().title()\n",
        "                if month in valid_months:\n",
        "                    break\n",
        "                else:\n",
        "                    print(\"Invalid month. please enter a valid month name.\")\n",
        "\n",
        "\n",
        "            while True:\n",
        "                electricity_str = input(\"Enter month electricity usage (in kwh): \")\n",
        "                try:\n",
        "                    electricity = float(electricity_str)\n",
        "                    break\n",
        "                except ValueError:\n",
        "                  print(\"Invalid input for electricity usage. please enter a valid number.\")\n",
        "\n",
        "\n",
        "            while True:\n",
        "                gas_str = input(\"Enter gas usage (in cubic meters): \")\n",
        "                try:\n",
        "                   gas = float(gas_str)\n",
        "                   break\n",
        "                except ValueError:\n",
        "                  print(\"Invalid input for gas usage. please enter a valid number.\")\n",
        "\n",
        "\n",
        "            while True:\n",
        "                water_str = input(\"Enter month water usage (in cubic meters): \")\n",
        "                try:\n",
        "                   water = float(water_str)\n",
        "                   break\n",
        "                except ValueError:\n",
        "                  print(\"Invalid input for water usage. please enter a valid number.\")\n",
        "\n",
        "\n",
        "            writer.writerow([month, electricity, gas, water])\n",
        "\n",
        "        except ValueError:\n",
        "\n",
        "            print(\"Sorry, that was an invalid input\\nPlease enter a valid input.\")\n",
        "\n",
        "print(\"Data collection completed successfully.\")"
      ]
    },
    {
      "cell_type": "code",
      "source": [
        "import csv\n",
        "\n",
        "file_path = 'monthly_energy_consumption.csv'\n",
        "\n",
        "with open(file_path, 'r') as monthly_energy:\n",
        "    csvreader = csv.reader(monthly_energy)\n",
        "    for row in csvreader:\n",
        "        print(row)"
      ],
      "metadata": {
        "id": "PEeKRdkW0CQI",
        "outputId": "255103a7-3dcd-416a-c584-af1b40fe9bc7",
        "colab": {
          "base_uri": "https://localhost:8080/"
        }
      },
      "execution_count": 7,
      "outputs": [
        {
          "output_type": "stream",
          "name": "stdout",
          "text": [
            "['January', '80.0', '100.0', '110.0']\n",
            "['February', '98.0', '105.0', '100.0']\n",
            "['March', '100.0', '108.0', '100.0']\n",
            "['April', '95.0', '98.0', '115.0']\n",
            "['May', '110.0', '120.0', '118.0']\n",
            "['June', '125.0', '128.0', '130.0']\n"
          ]
        }
      ]
    },
    {
      "cell_type": "code",
      "source": [
        "import csv\n",
        "\n",
        "month = []\n",
        "electricity_usage = []\n",
        "gas_usage = []\n",
        "water_usage = []\n",
        "with open('monthly_energy_consumption.csv', 'r') as csvfile:\n",
        "    csvreader = csv.reader(csvfile)\n",
        "    next(csvreader)\n",
        "    for row in csvreader:\n",
        "        month.append(row[0])\n",
        "        electricity_usage.append(float(row[1]))\n",
        "        gas_usage.append(float(row[2]))\n",
        "        water_usage.append(float(row[3]))\n",
        "print(\"month:\", month)\n",
        "print(\"electricity_usage:\", electricity_usage)\n",
        "print(\"gas_usage:\", gas_usage)\n",
        "print(\"water_usage:\", water_usage)\n"
      ],
      "metadata": {
        "id": "kA8xcgMI58B_",
        "outputId": "08e58018-7d8f-4abb-87be-1a5960cb26a0",
        "colab": {
          "base_uri": "https://localhost:8080/"
        }
      },
      "execution_count": 15,
      "outputs": [
        {
          "output_type": "stream",
          "name": "stdout",
          "text": [
            "month: ['February', 'March', 'April', 'May', 'June']\n",
            "electricity_usage: [98.0, 100.0, 95.0, 110.0, 125.0]\n",
            "gas_usage: [105.0, 108.0, 98.0, 120.0, 128.0]\n",
            "water_usage: [100.0, 100.0, 115.0, 118.0, 130.0]\n"
          ]
        }
      ]
    },
    {
      "cell_type": "code",
      "source": [
        "import csv\n",
        "import matplotlib.pyplot as plt\n",
        "def load_data(file_path):\n",
        "    \"\"\"Load monthly energy consumtion data from a CSV file\"\"\"\n",
        "    months, electricity_usage, gas_usage, water_usage = [], [], [], []\n",
        "\n",
        "\n",
        "    with open(file_name, 'r') as csvfile:\n",
        "        csvreader = csv.reader(csvfile)\n",
        "        next(csvreader)\n",
        "        for row in csvreader:\n",
        "            months.append(row)\n",
        "            electricity_usage.append(float(row[1]))\n",
        "            gas_usage.append(float(row[2]))\n",
        "            water_usage.append(float(row[3]))\n",
        "    return months, electricity_usage, gas_usage, water_usage\n",
        "\n",
        "def monthly_consumtion_trends(months, electricity_usage, gas_usage, water_usage):\n",
        "    \"\"\"Plot monthly energy consumtion trends\"\"\"\n",
        "    plt.figure(figsize=(10, 6))\n",
        "    plt.plot(months, electricity_usage, marker='o', label='Electricity Usage (kwh)')\n",
        "    plt.plot(months, gas_usage, marker='o', label='Gas Usage (cubic meters)')\n",
        "    plt.plot(months, water_usage, marker='o', label='Water Usage (cubic meters)')\n",
        "    plt.xlabel('Month')\n",
        "    plt.ylabel('Consumption')\n",
        "    plt.xticks(rotation=45)\n",
        "    plt.legend()\n",
        "    plt.grid(True)\n",
        "    plt.tight_layout()\n",
        "    plt.show()\n",
        "\n",
        "def comparison_energy_types(electricity_usage, gas_usage, water_usage):\n",
        "    \"\"\"plot consumption of energy types by consumption\"\"\"\n",
        "    plt.figure(figsize=(10, 6))\n",
        "    plt.bar(['Electricity', 'Gas', 'Water'], [sum(electricity_usage), sum(gas_usage), sum(water_usage)])\n",
        "    plt.title('consumtion of energy types by consumtion' )\n",
        "    plt.plot(electricity_usage, label='Electricity Usage (kwh)')\n",
        "    plt.plot(gas_usage, label='Gas Usage (cubic meters)')"
      ],
      "metadata": {
        "id": "e7yuXp4C-q1n"
      },
      "execution_count": 19,
      "outputs": []
    }
  ]
}