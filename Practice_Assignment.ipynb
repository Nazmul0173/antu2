{
  "nbformat": 4,
  "nbformat_minor": 0,
  "metadata": {
    "colab": {
      "provenance": [],
      "authorship_tag": "ABX9TyNBABRbixC6H8WZ2lTWvQWZ",
      "include_colab_link": true
    },
    "kernelspec": {
      "name": "python3",
      "display_name": "Python 3"
    },
    "language_info": {
      "name": "python"
    }
  },
  "cells": [
    {
      "cell_type": "markdown",
      "metadata": {
        "id": "view-in-github",
        "colab_type": "text"
      },
      "source": [
        "<a href=\"https://colab.research.google.com/github/Nazmul0173/antu2/blob/main/Practice_Assignment.ipynb\" target=\"_parent\"><img src=\"https://colab.research.google.com/assets/colab-badge.svg\" alt=\"Open In Colab\"/></a>"
      ]
    },
    {
      "cell_type": "code",
      "execution_count": 31,
      "metadata": {
        "colab": {
          "base_uri": "https://localhost:8080/",
          "height": 106
        },
        "id": "dskaUcITjfkp",
        "outputId": "f90616d8-7fdb-4f24-bc75-bdfdb456ecd5"
      },
      "outputs": [
        {
          "output_type": "error",
          "ename": "IndentationError",
          "evalue": "unindent does not match any outer indentation level (<tokenize>, line 12)",
          "traceback": [
            "\u001b[0;36m  File \u001b[0;32m\"<tokenize>\"\u001b[0;36m, line \u001b[0;32m12\u001b[0m\n\u001b[0;31m    while True:\u001b[0m\n\u001b[0m    ^\u001b[0m\n\u001b[0;31mIndentationError\u001b[0m\u001b[0;31m:\u001b[0m unindent does not match any outer indentation level\n"
          ]
        }
      ],
      "source": [
        "import csv\n",
        "\n",
        "with open(\"monthly_energy_consumption.csv\", \"r\", newline=\"\") as monthly_energy:\n",
        "     writer = csv.writer(monthly_energy)\n",
        "\n",
        "     for i in range(12):\n",
        "         try:\n",
        "            valid_months = [\"January\", \"February\", \"March\", \"April\", \"May\", \"June\", \"July\", \"Auguest\", \"September\", \"October\", \"November\", \"December\"]\n",
        "\n",
        "\n",
        "\n",
        "        while True:\n",
        "            month = input(\"Enter month (e.g., January, February, ect.): \").strip().title()\n",
        "            if month in valid months:\n",
        "                break\n",
        "            else:\n",
        "                print(\"Invalid month. please enter a valid month name.\")\n",
        "\n",
        "\n",
        "         while True:\n",
        "             electricity_str = input(\"Enter month electricity usage (in kwh): \")\n",
        "             try:\n",
        "                electricity = float(electricity_str)\n",
        "                break\n",
        "                except ValueError:\n",
        "                  print(\"Invalid input for electricity usage. please enter a valid number.\")\n",
        "\n",
        "\n",
        "          while True:\n",
        "             gas_str = input(\"Enter gas usage (in cubic meters): \")\n",
        "             try:\n",
        "                gas = float(gas_str)\n",
        "                break\n",
        "                except ValueError:\n",
        "                  print(\"Invalid input for gas usage. please enter a valid number.\")\n",
        "\n",
        "\n",
        "          while True:\n",
        "             water_str = input(\"Enter month water usage (in cubic meters): \")\n",
        "             try:\n",
        "                water = float(water_str)\n",
        "                break\n",
        "                except ValueError:\n",
        "                  print(\"Invalid input for water usage. please enter a valid number.\")\n",
        "\n",
        "\n",
        "          writer.writerow([month, electricity, gas, water])\n",
        "\n",
        "          except ValueError:\n",
        "\n",
        "            print(\"Sorry, that was an invalid input\\nPlease enter a valid input.\")\n",
        "\n",
        "print(\"Data collection completed successfully.\")"
      ]
    }
  ]
}